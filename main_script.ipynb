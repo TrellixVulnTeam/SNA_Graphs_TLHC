{
 "cells": [
  {
   "cell_type": "code",
   "execution_count": null,
   "id": "caaa6803",
   "metadata": {},
   "outputs": [],
   "source": [
    "!pip install -r requirements.txt"
   ]
  },
  {
   "cell_type": "code",
   "execution_count": null,
   "id": "83b56664",
   "metadata": {},
   "outputs": [],
   "source": [
    "!pip install wget"
   ]
  },
  {
   "cell_type": "code",
   "execution_count": null,
   "id": "f8c59c6d",
   "metadata": {
    "scrolled": false
   },
   "outputs": [],
   "source": [
    "!python ./dataprep.py --save_path ??? --download --user ??? --password ???"
   ]
  },
  {
   "cell_type": "code",
   "execution_count": null,
   "id": "8568e960",
   "metadata": {},
   "outputs": [],
   "source": [
    "!python ./dataprep.py --save_path ??? --extract\n",
    "!python ./dataprep.py --save_path ??? --convert"
   ]
  },
  {
   "cell_type": "code",
   "execution_count": null,
   "id": "f7aff4d3",
   "metadata": {},
   "outputs": [],
   "source": [
    "!python ./trainSpeakerNet.py --eval --model ResNetSE34V2 --log_input True --encoder_type ASP --n_mels 64 --trainfunc softmaxproto --save_path exps/test --eval_frames 400  --initial_model baseline_v2_ap.model"
   ]
  }
 ],
 "metadata": {
  "interpreter": {
   "hash": "916dbcbb3f70747c44a77c7bcd40155683ae19c65e1c03b4aa3499c5328201f1"
  },
  "kernelspec": {
   "display_name": "Python 3.8.10 64-bit",
   "language": "python",
   "name": "python3"
  },
  "language_info": {
   "codemirror_mode": {
    "name": "ipython",
    "version": 3
   },
   "file_extension": ".py",
   "mimetype": "text/x-python",
   "name": "python",
   "nbconvert_exporter": "python",
   "pygments_lexer": "ipython3",
   "version": "3.8.10"
  }
 },
 "nbformat": 4,
 "nbformat_minor": 5
}
